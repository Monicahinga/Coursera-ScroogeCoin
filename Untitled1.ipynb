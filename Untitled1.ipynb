{
  "nbformat": 4,
  "nbformat_minor": 0,
  "metadata": {
    "colab": {
      "provenance": [],
      "collapsed_sections": [],
      "authorship_tag": "ABX9TyNOPi31OsoY4TN2TVkxCdHz",
      "include_colab_link": true
    },
    "kernelspec": {
      "name": "python3",
      "display_name": "Python 3"
    },
    "language_info": {
      "name": "python"
    }
  },
  "cells": [
    {
      "cell_type": "markdown",
      "metadata": {
        "id": "view-in-github",
        "colab_type": "text"
      },
      "source": [
        "<a href=\"https://colab.research.google.com/github/Monicahinga/Coursera-ScroogeCoin/blob/master/Untitled1.ipynb\" target=\"_parent\"><img src=\"https://colab.research.google.com/assets/colab-badge.svg\" alt=\"Open In Colab\"/></a>"
      ]
    },
    {
      "cell_type": "code",
      "source": [],
      "metadata": {
        "id": "CFQZ0Guh3JbW"
      },
      "execution_count": null,
      "outputs": []
    },
    {
      "cell_type": "code",
      "execution_count": null,
      "metadata": {
        "id": "Yv443bYexY41",
        "colab": {
          "base_uri": "https://localhost:8080/"
        },
        "outputId": "4d1d76ec-60e3-44b5-d7c6-263326d0f4c4"
      },
      "outputs": [
        {
          "output_type": "stream",
          "name": "stdout",
          "text": [
            "1\n",
            "5\n"
          ]
        }
      ],
      "source": [
        "#Slicing in the array\n",
        "\n",
        "\n",
        "#Indexing in the array\n",
        "\n",
        "\n",
        "\n",
        "import numpy as np\n",
        "a= np.array([[1,2],[3, 4], [5,6]])\n",
        "\n",
        "print(a[0,0])\n",
        "print(a[2,0])\n",
        "\n",
        "\n"
      ]
    },
    {
      "cell_type": "code",
      "source": [
        "#Sequensing\n",
        "\n",
        "\n",
        "a=np.arange(1,8,3)\n",
        "b=np.arange(1,10.5,3)\n",
        "c=np.arange(5,1,-1)\n",
        "\n",
        "print(a)\n",
        "print(b)\n",
        "print(c)\n",
        "\n",
        "\n",
        "\n",
        "\n"
      ],
      "metadata": {
        "id": "dKM2qRw53Rxe",
        "colab": {
          "base_uri": "https://localhost:8080/"
        },
        "outputId": "7ef2d50c-c384-425b-a27a-15de1b5067c8"
      },
      "execution_count": null,
      "outputs": [
        {
          "output_type": "stream",
          "name": "stdout",
          "text": [
            "[1 4 7]\n",
            "[ 1.  4.  7. 10.]\n",
            "[5 4 3 2]\n"
          ]
        }
      ]
    },
    {
      "cell_type": "code",
      "source": [
        "\n",
        "\n",
        "#For loop using arange\n",
        "\n",
        "arr_list= ['mysql', 'Mongodb', 'PostgreSQL', 'Firebase']\n",
        "\n",
        "for i in range(len(arr_list)):\n",
        "    print(arr_list[i], end = \"\")\n",
        "\n",
        "\n",
        "\n"
      ],
      "metadata": {
        "colab": {
          "base_uri": "https://localhost:8080/"
        },
        "id": "CbbZnEW74QFv",
        "outputId": "beb47809-e9f6-4cb9-ee1d-77728bff6600"
      },
      "execution_count": null,
      "outputs": [
        {
          "output_type": "stream",
          "name": "stdout",
          "text": [
            "mysqlMongodbPostgreSQLFirebase"
          ]
        }
      ]
    },
    {
      "cell_type": "markdown",
      "source": [],
      "metadata": {
        "id": "hgG1b2Ow3J5N"
      }
    },
    {
      "cell_type": "code",
      "source": [
        "\n",
        "\n"
      ],
      "metadata": {
        "id": "0-xwYWor5DaO"
      },
      "execution_count": null,
      "outputs": []
    },
    {
      "cell_type": "code",
      "source": [
        "\n",
        "\n",
        "#For loop using arange\n",
        "#Next Line\n",
        "\n",
        "arr_list= ['mysql', 'Mongodb', 'PostgreSQL', 'Firebase']\n",
        "\n",
        "for i in range(len(arr_list)):\n",
        "    print(arr_list[i])\n",
        "\n",
        "\n",
        "\n"
      ],
      "metadata": {
        "colab": {
          "base_uri": "https://localhost:8080/"
        },
        "outputId": "bfb8264c-3d39-47bc-a522-d5b3f58e59a1",
        "id": "FotghUnz58S9"
      },
      "execution_count": null,
      "outputs": [
        {
          "output_type": "stream",
          "name": "stdout",
          "text": [
            "mysql\n",
            "Mongodb\n",
            "PostgreSQL\n",
            "Firebase\n"
          ]
        }
      ]
    },
    {
      "cell_type": "code",
      "source": [
        "#Matrices\n",
        "\n",
        "M1 = np.array([[2,4,6,8,10],\n",
        "              [3,1,6,7,8], \n",
        "               [4,7,8,2,1],\n",
        "               [10,11,8,0,2]])\n",
        "\n",
        "print(M1)\n",
        "\n",
        "\n"
      ],
      "metadata": {
        "id": "uehFRJNs54w7",
        "colab": {
          "base_uri": "https://localhost:8080/"
        },
        "outputId": "7de8c7ee-2669-4d32-b81a-b30e4c7921c6"
      },
      "execution_count": 13,
      "outputs": [
        {
          "output_type": "stream",
          "name": "stdout",
          "text": [
            "[[ 2  4  6  8 10]\n",
            " [ 3  1  6  7  8]\n",
            " [ 4  7  8  2  1]\n",
            " [10 11  8  0  2]]\n"
          ]
        }
      ]
    },
    {
      "cell_type": "code",
      "source": [
        "\n",
        "#Prints index 3 in every row\n",
        "print(M1[:,3])\n"
      ],
      "metadata": {
        "id": "9lJivox23KGe",
        "colab": {
          "base_uri": "https://localhost:8080/"
        },
        "outputId": "9f99a8da-e188-45ad-bc76-4804cd24ff91"
      },
      "execution_count": 14,
      "outputs": [
        {
          "output_type": "stream",
          "name": "stdout",
          "text": [
            "[8 7 2 0]\n"
          ]
        }
      ]
    }
  ]
}